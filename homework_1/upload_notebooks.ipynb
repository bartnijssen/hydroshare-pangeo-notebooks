{
 "cells": [
  {
   "cell_type": "code",
   "execution_count": 1,
   "metadata": {},
   "outputs": [
    {
     "name": "stdout",
     "output_type": "stream",
     "text": [
      "Successfully established a connection with HydroShare\n"
     ]
    }
   ],
   "source": [
    "from pysumma.hydroshare import hydroshare\n",
    "hs_up = hydroshare.hydroshare()"
   ]
  },
  {
   "cell_type": "code",
   "execution_count": 2,
   "metadata": {},
   "outputs": [],
   "source": [
    "files = ('/home/jovyan/work/homework_1/homework_1_A_introduction.ipynb', \n",
    "         '/home/jovyan/work/homework_1/homework_1_B_example.ipynb', \n",
    "         '/home/jovyan/work/homework_1/homework_1_C_setup.ipynb',\n",
    "         '/home/jovyan/work/homework_1/homework_1_D_exercise_1.ipynb',\n",
    "         '/home/jovyan/work/homework_1/homework_1_E_exercise_2.ipynb',\n",
    "         '/home/jovyan/work/homework_1/homework_1_F_exercise_3.ipynb',\n",
    "         '/home/jovyan/work/homework_1/upload_notebooks.ipynb')"
   ]
  },
  {
   "cell_type": "code",
   "execution_count": 3,
   "metadata": {},
   "outputs": [],
   "source": [
    "# write meta data such as abstract, title, keywords, resource type\n",
    "title = 'test'\n",
    "abstract = 'bla bla bla'\n",
    "keywords = ('nothing', 'more')\n",
    "resource_type = 'genericresource'"
   ]
  },
  {
   "cell_type": "code",
   "execution_count": 4,
   "metadata": {},
   "outputs": [],
   "source": [
    "metadata = '[{\"creator\":{\"name\":\"Bart Nijssen\"}}]'"
   ]
  },
  {
   "cell_type": "code",
   "execution_count": 5,
   "metadata": {},
   "outputs": [
    {
     "name": "stdout",
     "output_type": "stream",
     "text": [
      "Resource Created Successfully\n",
      "Successfully Added Content Files\n"
     ]
    },
    {
     "data": {
      "text/html": [
       "Resource id: 6277ca8b33724bb185531e5b4968aa11"
      ],
      "text/plain": [
       "<IPython.core.display.HTML object>"
      ]
     },
     "metadata": {},
     "output_type": "display_data"
    },
    {
     "data": {
      "text/html": [
       "<a href=https://www.hydroshare.org/resource/6277ca8b33724bb185531e5b4968aa11 target=\"_blank\">Open Resource in HydroShare<a>"
      ],
      "text/plain": [
       "<IPython.core.display.HTML object>"
      ]
     },
     "metadata": {},
     "output_type": "display_data"
    }
   ],
   "source": [
    "# post simulation results of simpleResistance back to HS\n",
    "resource_id = hs_up.createHydroShareResource(title=title, content_files=files, keywords=keywords, abstract=abstract, \n",
    "                                             resource_type=resource_type, public=False)"
   ]
  },
  {
   "cell_type": "code",
   "execution_count": null,
   "metadata": {},
   "outputs": [],
   "source": []
  },
  {
   "cell_type": "code",
   "execution_count": null,
   "metadata": {},
   "outputs": [],
   "source": []
  }
 ],
 "metadata": {
  "kernelspec": {
   "display_name": "Python [default]",
   "language": "python",
   "name": "python3"
  },
  "language_info": {
   "codemirror_mode": {
    "name": "ipython",
    "version": 3
   },
   "file_extension": ".py",
   "mimetype": "text/x-python",
   "name": "python",
   "nbconvert_exporter": "python",
   "pygments_lexer": "ipython3",
   "version": "3.6.3"
  }
 },
 "nbformat": 4,
 "nbformat_minor": 2
}
