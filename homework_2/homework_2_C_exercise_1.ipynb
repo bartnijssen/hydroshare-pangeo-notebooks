{
 "cells": [
  {
   "cell_type": "markdown",
   "metadata": {},
   "source": [
    "# Homework 2 : CUAHSI VU : Snow Hydrology"
   ]
  },
  {
   "cell_type": "markdown",
   "metadata": {},
   "source": [
    "We'll use the setup from the `homework_2_B_setup.ipynb` notebook for this exercise as well. If you think that you comprised that setup in a previous exercise, just rerun `homework_2_B_setup.ipynb` before continuing."
   ]
  },
  {
   "cell_type": "markdown",
   "metadata": {},
   "source": [
    "As before, remember that you want to save your notebooks in a place other than the `examples` directory tree, because files you save there may be deleted and overwritten the next time you start your virtual machine. Save your files somewhere in the `work` directory tree: `work/homework_2` would be a great place for them. So click on \"_File --> Save Notebook As..._\" and save this notebook as `work/homework_1/homework_2_C_exercise_1.ipynb` before you continue. If things go hopelessly wrong, you can always start over again with the original notebook in your `examples` directory tree."
   ]
  },
  {
   "cell_type": "markdown",
   "metadata": {},
   "source": [
    "## C. Homework 2 Exercise 1"
   ]
  },
  {
   "cell_type": "markdown",
   "metadata": {},
   "source": [
    "### Setup"
   ]
  },
  {
   "cell_type": "code",
   "execution_count": null,
   "metadata": {},
   "outputs": [],
   "source": [
    "%matplotlib inline\n",
    "import matplotlib.pyplot as plt # if you want to do some plotting using matplotlib (optional)\n",
    "from pysumma.Simulation import Simulation # create Simulation objects\n",
    "from pysumma.hydroshare import hydroshare # create hydroshare objects to upload to HydroShare\n",
    "from pysumma.LocalParamInfo import LocalParamInfo # modify local parameters.\n",
    "import numpy as np # provide some mathematical functions\n",
    "import xarray as xr # read, write, manipulate and analyze NetCDF files"
   ]
  },
  {
   "cell_type": "code",
   "execution_count": null,
   "metadata": {},
   "outputs": [],
   "source": [
    "resource_id = '05adaf5618ee4dbbbf04195db376cbb4'\n",
    "case_path = '/home/jovyan/work/{}/{}/data/contents/umpqua'.format(resource_id, resource_id)\n",
    "filemanager_path = case_path+'/settings/snow_fileManager.txt'\n",
    "summa_code_path = '/opt/summa'"
   ]
  },
  {
   "cell_type": "markdown",
   "metadata": {},
   "source": [
    "### Functions"
   ]
  },
  {
   "cell_type": "markdown",
   "metadata": {},
   "source": [
    "In this section we will pre-define some functions we will use in the rest of the notebook to modify the forcings. In this first exercise we will look at the effects of different methods to estimate incoming longwave radiation on the snow simulations. To do this, we will read the original forcing file (identified by the filename modifier `9697`) into an `xarray Dataset` and we will then calculate new longwave fluxes, which we will write to a new file. We then modify the SUMMA input file that points to the forcing file to be used (the [forcing file list](https://summa.readthedocs.io/en/latest/input_output/SUMMA_input/#list-of-forcing-files-file)). We will show an example below."
   ]
  },
  {
   "cell_type": "markdown",
   "metadata": {},
   "source": [
    "#### Update the forcing file list\n",
    "\n",
    "The following function will update the forcing file list so that SUMMA will read the right forcing file."
   ]
  },
  {
   "cell_type": "code",
   "execution_count": null,
   "metadata": {},
   "outputs": [],
   "source": [
    "def update_force_file_list(s, new_force_filename):\n",
    "    '''Update the forcing file list\n",
    "       s: SUMMA simulation instance\n",
    "       new: new forcing filename\n",
    "       Note this only works if there is a single forcing file'''\n",
    "    fp = s.setting_path.get_value() + s.forcing_list.get_value()\n",
    "    with open(fp, 'r') as f:\n",
    "        lines = f.readlines()\n",
    "    lines[-1] = \"'{}'\".format(new_force_filename.split('/')[-1])\n",
    "    with open(fp, 'w') as f:\n",
    "        f.writelines(lines)"
   ]
  },
  {
   "cell_type": "markdown",
   "metadata": {},
   "source": [
    "#### Calculate incoming longwave radiation"
   ]
  },
  {
   "cell_type": "markdown",
   "metadata": {},
   "source": [
    "##### Calculation of vapor pressure from specific humidity"
   ]
  },
  {
   "cell_type": "markdown",
   "metadata": {},
   "source": [
    "Most methods for estimating incoming longwave radiation from other variables require some combination of air temperature, a measure of humidity (vapor pressure or specific humidity), and perhaps some other variables. First, we will derive the relationship between specific humidity and vapor pressure, since we have specific humidity as part of the SUMMA forcing file.\n",
    "\n",
    "We begin with definitions of relative humidity and rearranging,\n",
    "\n",
    "$$ RH = \\frac{w}{w_s} = \\frac{e}{e_s} \\rightarrow e = \\frac{e_s \\cdot w}{w_s} $$\n",
    "\n",
    "Given specific humidity as the mass mixing ratio of water vapor we can rearrange, \n",
    "\n",
    "$$q = \\frac{w}{w+1} \\rightarrow w = -\\frac{q}{q-1}$$\n",
    "\n",
    "And finally, using the conversion factor:\n",
    "\n",
    "$$ w_s \\approx 0.622 \\frac{e_s}{p} $$\n",
    "\n",
    "we are able to write the vapor pressure in terms of the specific humidity and air pressure:\n",
    "\n",
    "$$ e = -\\frac{e_s}{w_s}\\left(\\frac{q}{q-1}\\right) \\approx -1.607 \\cdot p \\left(\\frac{q}{q-1}\\right) $$\n",
    "\n",
    "With this we can define a number of functions for estimating longwave radiation."
   ]
  },
  {
   "cell_type": "markdown",
   "metadata": {},
   "source": [
    "##### Methods for estimating longwave radiation "
   ]
  },
  {
   "cell_type": "markdown",
   "metadata": {},
   "source": [
    "We define the following five functions for estimating longwave radiation (the references are provide in the functions): \n",
    "* Prata\n",
    "* TVA\n",
    "* Satterlund\n",
    "* Anderson\n",
    "* Dokia\n",
    "\n",
    "For each of the functions, the units of the inputs are consistent with the units in the SUMMA forcing files. Note that there are also a few helper functions that are used by one or more of the methods."
   ]
  },
  {
   "cell_type": "code",
   "execution_count": null,
   "metadata": {},
   "outputs": [],
   "source": [
    "# Stephan-Boltzmann constant (J/s/m^2/K^4)\n",
    "STEFAN = 5.67e-8\n",
    "\n",
    "\n",
    "def vapor_pressure(air_pressure, spec_humid):\n",
    "    \"\"\"See above for derivation\"\"\"\n",
    "    return -1.607 * air_pressure * spec_humid / (spec_humid - 1)\n",
    "\n",
    "\n",
    "def longwave_prata(air_temp, vapor_pressure):\n",
    "    \"\"\"\n",
    "    Reference:\n",
    "        Prata, A.J., 1996. A new long-wave formula for estimating\n",
    "        downward clear-sky radiation at the surface. Q. J. R. Meteor.\n",
    "        Soc. 122 (533), 1127–1151, doi:10.1002/qj.49712253306.\n",
    "    \"\"\"\n",
    "    z = 46.5 * (vapor_pressure / air_temp)\n",
    "    emissivity = 1 - (1 + z) * np.exp(-np.sqrt(1.2 + 3 * z))\n",
    "    return emissivity * np.power(air_temp, 4) * STEFAN\n",
    "        \n",
    "    \n",
    "def longwave_tva(air_temp, vapor_pressure):\n",
    "    \"\"\"\n",
    "    Reference:\n",
    "        Tennessee Valley Authority, 1972. Heat and mass transfer between a\n",
    "        water surface and the atmosphere. Tennessee Valley Authority, Norris,\n",
    "        TN. Laboratory report no. 14. Water resources research report no. 0-6803.\n",
    "    \"\"\"\n",
    "    emissivity = 0.74 + 0.0049 * vapor_pressure/10\n",
    "    return emissivity * np.power(air_temp, 4) * STEFAN\n",
    "\n",
    "\n",
    "def longwave_satterlund(air_temp, vapor_pressure):\n",
    "    \"\"\"\n",
    "    Reference:\n",
    "        Satterlund, D.R., 1979. An improved equation for estimating long-wave\n",
    "        radiation from the atmosphere. Water Resour. Res. 15 (6), 1649–1650,\n",
    "        doi:10.1029/WR015i006p01649.\n",
    "    \"\"\"\n",
    "    vp = vapor_pressure / 10\n",
    "    emissivity = 1.08 * (1 - np.exp(-np.power(vp, air_temp/2016)))\n",
    "    return emissivity * np.power(air_temp, 4) * STEFAN\n",
    "\n",
    "\n",
    "def longwave_anderson(air_temp, vapor_pressure):\n",
    "    \"\"\"\n",
    "    Referencce:\n",
    "        Anderson, E.R., 1954. Energy budget studies, water loss\n",
    "        investigations: lake Hefner studies. U.S. Geol. Surv. Prof. Pap. 269,\n",
    "        71–119 [Available from U.S. Geological Survey, 807 National Center,\n",
    "        Reston, VA 20192.].\n",
    "    \"\"\"\n",
    "    emissivity = 0.68 + 0.036 * np.power(vapor_pressure/10, 0.5)\n",
    "    return emissivity * np.power(air_temp, 4) * STEFAN\n",
    "\n",
    "\n",
    "def cloud_correction(shortwave, lat=43.03, highlimit=0.6, lowlimit=0.35):\n",
    "    \"\"\"Converted from cloudfactor_Jessica.m\"\"\"\n",
    "    doy = shortwave.time.dt.dayofyear\n",
    "    s0 = 1360                     # Solar constant (W/m^2)\n",
    "    phi = lat * 2 * np.pi / 365   # Convert to radian\n",
    "    # Declination in radians\n",
    "    delta = (2 * np.pi / 365) * (23.45 * np.sin(2 * np.pi * (284 + doy) / 365))\n",
    "    \n",
    "    # Top of atmosphere radiation\n",
    "    hs = np.arccos(-np.tan(phi) * np.tan(delta))\n",
    "    q0 = s0 * (1/np.pi) * (\n",
    "        hs * np.sin(phi) * np.sin(delta) + np.cos(phi) * np.cos(delta) * np.sin(hs))\n",
    "    \n",
    "    # Fraction of recieved radiation\n",
    "    k = shortwave / q0\n",
    "    \n",
    "    # Cloud cover fraction\n",
    "    cloud_frac = 1 - ((k - lowlimit) / (highlimit - lowlimit))\n",
    "    cloud_frac = cloud_frac.where(cloud_frac > 0, other=0.0)\n",
    "    cloud_frac = cloud_frac.where(cloud_frac < 1, other=1.0)\n",
    "    return cloud_frac\n",
    "    \n",
    "    \n",
    "def longwave_dokia(air_temp, vapor_pressure, shortwave):\n",
    "    \"\"\"\n",
    "    References:\n",
    "      -Clear sky:\n",
    "        Dilley, A. C., and D. M. O<92>Brien (1998), Estimating downward clear sky\n",
    "        long-wave irradiance at the surface from screen temperature and precipitable\n",
    "        water, Q. J. R. Meteorol. Soc., 124, 1391<96> 1401.\n",
    "      -Cloudy sky:\n",
    "        Kimball, B. A., S. B. Idso, and J. K. Aase (1982), A model of thermal                                                                                          \n",
    "        radiation from partly cloudy and overcast skies, Water Resour. Res., 18,                                                                                       \n",
    "        931<96> 936.                                   \n",
    "    \"\"\"\n",
    "    vp = vapor_pressure / 1000 # Convert to kPa\n",
    "    w = 4560 * (vp / air_temp) # Prata (1996) approximation for precipitable water\n",
    "    \n",
    "    # Clear sky component of longwave\n",
    "    lw_clear = 59.38 + 113.7 * np.power(air_temp / 273.16, 6) + 96.96 * np.sqrt(w / 25)\n",
    "    \n",
    "    # Cloud cover corrections\n",
    "    c = cloud_correction(shortwave)\n",
    "    cloud_temp = air_temp - 11\n",
    "    winter = np.logical_or(vp.time.dt.month <= 2, vp.time.dt.month == 12)\n",
    "    summer = np.logical_and(vp.time.dt.month <= 8, vp.time.dt.month >=6)\n",
    "    cloud_temp[winter] -= 2\n",
    "    cloud_temp[summer] += 2\n",
    "    \n",
    "    # Cloudy sky component of longwave\n",
    "    eps8z = 0.24 + 2.98e-6 * np.power(vp, 2.0) * np.exp(3000/air_temp)\n",
    "    tau8 = 1 - eps8z * (1.4 - (0.4 * eps8z))\n",
    "    f8 = -0.6732 + 0.6240e-2 * cloud_temp - 0.914e-5 * np.power(cloud_temp, 2.0)\n",
    "    lw_cloud = tau8 * c * f8 * STEFAN * np.power(cloud_temp, 4)   \n",
    "    return lw_clear + lw_cloud"
   ]
  },
  {
   "cell_type": "markdown",
   "metadata": {},
   "source": [
    "### Example"
   ]
  },
  {
   "cell_type": "markdown",
   "metadata": {},
   "source": [
    "Create a SUMMA simulation object."
   ]
  },
  {
   "cell_type": "code",
   "execution_count": null,
   "metadata": {},
   "outputs": [],
   "source": [
    "S = Simulation(case_data=filemanager_path, summa_code=summa_code_path)"
   ]
  },
  {
   "cell_type": "markdown",
   "metadata": {},
   "source": [
    "Open the forcing file for this simulation and read the file into an `xarray Dataset` object. Note that the name of the forcing file is stored in the forcing list file. The location of that file is given by:"
   ]
  },
  {
   "cell_type": "code",
   "execution_count": null,
   "metadata": {},
   "outputs": [],
   "source": [
    "forcing_file_list = S.file_dir+'/'+S.forcing_list.filename\n",
    "forcing_file_list"
   ]
  },
  {
   "cell_type": "markdown",
   "metadata": {},
   "source": [
    "If you look in that file, you will see that the name of the forcing file is `Storck_AboveCanopyPP_9697.nc`. The directory for that file is given by"
   ]
  },
  {
   "cell_type": "code",
   "execution_count": null,
   "metadata": {},
   "outputs": [],
   "source": [
    "S.input_path.filepath"
   ]
  },
  {
   "cell_type": "markdown",
   "metadata": {},
   "source": [
    "We can use `xarray` to read the file into an `xarray Dataset`."
   ]
  },
  {
   "cell_type": "code",
   "execution_count": null,
   "metadata": {},
   "outputs": [],
   "source": [
    "force_file_obs  = S.input_path.filepath + '/' + 'Storck_AboveCanopyPP_9697.nc'\n",
    "force_obs = xr.open_dataset(force_file_obs)"
   ]
  },
  {
   "cell_type": "markdown",
   "metadata": {},
   "source": [
    "To examine the contents of the file, you can simply type the name of the `Dataset`"
   ]
  },
  {
   "cell_type": "code",
   "execution_count": null,
   "metadata": {},
   "outputs": [],
   "source": [
    "force_obs"
   ]
  },
  {
   "cell_type": "markdown",
   "metadata": {},
   "source": [
    "Note that this file contains two hrus (hydrologic response units). In this case, the forcing variables for the two hrus are identical. We can quickly examine this by subtracting the forcing data for the two hrus and taking the mean (just showing some `xarray` features. The difference between the two datasets is the vegetation type. The first hru (hru=0 or hruId=1001) has grass as its vegetation cover, while the second hru (hru=1 or hruId=1002) has evergreen needleleaf forest as its vegetaion cover."
   ]
  },
  {
   "cell_type": "code",
   "execution_count": null,
   "metadata": {},
   "outputs": [],
   "source": [
    "(force_obs.isel(hru=0)-force_obs.isel(hru=1)).mean()"
   ]
  },
  {
   "cell_type": "markdown",
   "metadata": {},
   "source": [
    "As you can see, subtracting the two hrus in the `xarra Dataset` will actually subtract all the forcing fields that are in that dataset."
   ]
  },
  {
   "cell_type": "markdown",
   "metadata": {},
   "source": [
    "Plotting a time series is also straightforward. For example, a time series of longwave for the first hru can be plotted by"
   ]
  },
  {
   "cell_type": "code",
   "execution_count": null,
   "metadata": {},
   "outputs": [],
   "source": [
    "force_obs.LWRadAtm.isel(hru=0).plot()"
   ]
  },
  {
   "cell_type": "markdown",
   "metadata": {},
   "source": [
    "Now let's generate a new forcing dataset based on one of the longwave algorithms. Here we'll use Anderson as an example, which takes air temperature and vapor pressure as input (so we first need to calculate the vapor pressure). "
   ]
  },
  {
   "cell_type": "code",
   "execution_count": null,
   "metadata": {},
   "outputs": [],
   "source": [
    "vp = vapor_pressure(force_obs['airpres'], force_obs['spechum'])\n",
    "lw_anderson = longwave_anderson(force_obs['airtemp'], vp)"
   ]
  },
  {
   "cell_type": "markdown",
   "metadata": {},
   "source": [
    "And let's plot the two different longwave time series for the first hru."
   ]
  },
  {
   "cell_type": "code",
   "execution_count": null,
   "metadata": {},
   "outputs": [],
   "source": [
    "force_obs.LWRadAtm.isel(hru=0).plot(label='Observed')\n",
    "lw_anderson.isel(hru=0).plot(label='Anderson')\n",
    "plt.legend()"
   ]
  },
  {
   "cell_type": "markdown",
   "metadata": {},
   "source": [
    "We'll do a quick run with the default forcings"
   ]
  },
  {
   "cell_type": "code",
   "execution_count": null,
   "metadata": {},
   "outputs": [],
   "source": [
    "ds_obs, outfile_obs = S.execute(run_suffix='lw_obs', run_option='local')"
   ]
  },
  {
   "cell_type": "markdown",
   "metadata": {},
   "source": [
    "Finally, we'll write our new Anderson forcing to file and we will do simulations with the new longwave time series (the other forcings will remain unchanged).\n",
    "\n",
    "Writing this to file, we'll use a few steps:\n",
    "* copy the original forcing dataset to a new one\n",
    "* replace the longwave values\n",
    "* write a new forcing file\n",
    "* replace the forcing file name in the forcing file list with the name of the new file\n",
    "\n",
    "Once done we can just do the new simulation. Note that in this case we are re-using the existing simulation object `S`. We could use a somewhat different workflow here and create new simulation objects, but for now we recommend this workflow, because it is easy to get the input files mixed up."
   ]
  },
  {
   "cell_type": "code",
   "execution_count": null,
   "metadata": {},
   "outputs": [],
   "source": [
    "force_anderson = force_obs.copy() # copy the original forcing dataset to a new one"
   ]
  },
  {
   "cell_type": "code",
   "execution_count": null,
   "metadata": {},
   "outputs": [],
   "source": [
    "force_anderson['LWRadAtm'].values = lw_anderson.values # replace the longwave values"
   ]
  },
  {
   "cell_type": "code",
   "execution_count": null,
   "metadata": {},
   "outputs": [],
   "source": [
    "force_file_anderson = force_file_obs.replace('9697', 'anderson')\n",
    "force_anderson.to_netcdf(force_file_anderson, format='NETCDF3_CLASSIC')"
   ]
  },
  {
   "cell_type": "code",
   "execution_count": null,
   "metadata": {},
   "outputs": [],
   "source": [
    "update_force_file_list(S, force_file_anderson)"
   ]
  },
  {
   "cell_type": "code",
   "execution_count": null,
   "metadata": {},
   "outputs": [],
   "source": [
    "ds_anderson, out_anderson = S.execute(run_suffix='lw_anderson', run_option='local')"
   ]
  },
  {
   "cell_type": "markdown",
   "metadata": {},
   "source": [
    "**Keep in mind that the file with the forcing file list now points to the Anderson longwave file. If you want to rerun with any other forcing you will need to make sure that the file reported in `forcing_file_list` points to the right input file.**\n",
    "\n",
    "You can navigate to this file in the file browser to the left."
   ]
  },
  {
   "cell_type": "code",
   "execution_count": null,
   "metadata": {},
   "outputs": [],
   "source": [
    "forcing_file_list"
   ]
  },
  {
   "cell_type": "markdown",
   "metadata": {},
   "source": [
    "We can now compare the results from the two simulations."
   ]
  },
  {
   "cell_type": "code",
   "execution_count": null,
   "metadata": {},
   "outputs": [],
   "source": [
    "plt.figure(figsize=(8,5))\n",
    "ds_obs.scalarSWE.isel(hru=0).plot(label='Observed longwave - grassland')\n",
    "ds_anderson.scalarSWE.isel(hru=0).plot(label='Anderson longwave - grassland')\n",
    "ds_obs.scalarSWE.isel(hru=1).plot(label='Observed longwave - trees')\n",
    "ds_anderson.scalarSWE.isel(hru=1).plot(label='Anderson longwave - trees')\n",
    "plt.legend()"
   ]
  },
  {
   "cell_type": "markdown",
   "metadata": {},
   "source": [
    "### Exercise"
   ]
  },
  {
   "cell_type": "markdown",
   "metadata": {},
   "source": [
    "Now it is up to you. Use different empirical methods to estimate the incoming longwave irradiance and compare the simulations with each other. Document the impact on the simulated snowpack in a forest clearing and under a forest canopy.\n",
    "\n",
    "In the next exercise we take this a step further, but for now we just want to ensure that you can create new longwave forcings, use them as input to SUMMA and compare the impacts of these changes on snow pack development."
   ]
  },
  {
   "cell_type": "markdown",
   "metadata": {},
   "source": [
    "Finally a few hints and things to keep in mind: It is easy to get confused with the model setup and the simulations. If you make changes to the forcings and the simulations do not change, make sure that your simulation object actually reads the right forcing file.\n",
    "\n",
    "All the forcing files should end up in the directory : `/home/jovyan/work/05adaf5618ee4dbbbf04195db376cbb4/05adaf5618ee4dbbbf04195db376cbb4/\n",
    "data/contents/umpqua/forcing/`\n",
    "You can inspect that directory in the file browser to the left (you can also do that in a terminal if you are familiar with unix).\n",
    "\n",
    "To make sure that the right file is actually being read, you can inspect the `forcing_file_list`, which is at:\n",
    "`/home/jovyan/work/05adaf5618ee4dbbbf04195db376cbb4/05adaf5618ee4dbbbf04195db376cbb4/\n",
    "data/contents/umpqua/settings/snow_zForcingFileList.txt`\n",
    "\n",
    "Keep in mind that commands in a jupyter notebook can be executed in any order, but that that may affect the results. When things don't make sense, re-install the setup for homework 2 (execute the cells in `homework_2_B_setup.ipynb`) and rerun this notebook. To make sure you start afresh, you should also restart the kernel (so there are no old versions in memory). You can do this by going to `Kernel --> Restart Kernel...` and re-executing the notebook cells or selecting `Kernel --> Restart Kernel and Run All Cells`. Normally you would not redo all the model simulations every time, but since the simulations are short, we'll use that method for now."
   ]
  },
  {
   "cell_type": "markdown",
   "metadata": {},
   "source": [
    "## On to the next step\n",
    "\n",
    "That's it for the first part of the second homework as far as the model simulations go. Prof. Lundquist will talk more about the analysis that you need to do on these simulations. You can do the analysis here in this notebook if python is your analysis software of choice or you can upload your output to HydroShare (in NetCDF or csv format) to do additional analysis.\n",
    "\n",
    "Save this notebook and close the tab. You can also right-click on the file in the left panel if it has a green dot next to it and select \"_Shutdown kernel_\" from the popup menu to stop the python session that is executing the commands in this notebook. Then open the next notebook: \n",
    "`work/homework_2/homework_2_D_exercise_2.ipynb`.\n",
    "\n",
    "After you finish this notebook, you can rerun `homework_2_B_setup.ipynb` to restore your settings to those you started with to avoid confusion."
   ]
  },
  {
   "cell_type": "code",
   "execution_count": null,
   "metadata": {},
   "outputs": [],
   "source": []
  }
 ],
 "metadata": {
  "kernelspec": {
   "display_name": "Python [default]",
   "language": "python",
   "name": "python3"
  },
  "language_info": {
   "codemirror_mode": {
    "name": "ipython",
    "version": 3
   },
   "file_extension": ".py",
   "mimetype": "text/x-python",
   "name": "python",
   "nbconvert_exporter": "python",
   "pygments_lexer": "ipython3",
   "version": "3.6.3"
  }
 },
 "nbformat": 4,
 "nbformat_minor": 2
}
